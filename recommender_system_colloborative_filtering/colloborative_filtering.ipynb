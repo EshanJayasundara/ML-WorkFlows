{
 "cells": [
  {
   "cell_type": "code",
   "execution_count": 1,
   "metadata": {},
   "outputs": [],
   "source": [
    "import pandas as pd\n",
    "import numpy as np\n",
    "import tensorflow as tf\n",
    "from tqdm import tqdm"
   ]
  },
  {
   "cell_type": "code",
   "execution_count": 2,
   "metadata": {},
   "outputs": [],
   "source": [
    "df = pd.read_csv('data/ratings.csv')\n",
    "# df.head()"
   ]
  },
  {
   "cell_type": "code",
   "execution_count": 3,
   "metadata": {},
   "outputs": [],
   "source": [
    "Y_df = pd.DataFrame(index=sorted(df['movieId'].unique().tolist()), columns=df['userId'].unique().tolist())\n",
    "# Y_df.head()"
   ]
  },
  {
   "cell_type": "code",
   "execution_count": 4,
   "metadata": {},
   "outputs": [
    {
     "name": "stdout",
     "output_type": "stream",
     "text": [
      "[[4.  nan nan ... 2.5 3.  5. ]\n",
      " [nan nan nan ... 2.  nan nan]\n",
      " [4.  nan nan ... 2.  nan nan]\n",
      " ...\n",
      " [nan nan nan ... nan nan nan]\n",
      " [nan nan nan ... nan nan nan]\n",
      " [nan nan nan ... nan nan nan]]\n"
     ]
    }
   ],
   "source": [
    "# Create a pivot table from the dataframe df\n",
    "pivot_df = df.pivot(index='movieId', columns='userId', values='rating')\n",
    "\n",
    "# Reindex to match Y_df's index and columns, filling missing values with 0 or NaN as needed\n",
    "Y_df = pivot_df.reindex(index=Y_df.index, columns=Y_df.columns)\n",
    "\n",
    "# Make a numpy array of Y\n",
    "Y = Y_df.to_numpy()\n",
    "\n",
    "print(Y)"
   ]
  },
  {
   "cell_type": "code",
   "execution_count": 5,
   "metadata": {},
   "outputs": [],
   "source": [
    "nm, nu = Y.shape\n",
    "nf = 20"
   ]
  },
  {
   "cell_type": "code",
   "execution_count": 6,
   "metadata": {},
   "outputs": [
    {
     "data": {
      "text/plain": [
       "<tf.Tensor: shape=(2,), dtype=float64, numpy=array([-0.08194051,  0.7000041 ])>"
      ]
     },
     "execution_count": 6,
     "metadata": {},
     "output_type": "execute_result"
    }
   ],
   "source": [
    "tf.random.set_seed(1234)\n",
    "\n",
    "X = tf.Variable(tf.random.normal((nm, nf), dtype=tf.float64), name='X')\n",
    "W = tf.Variable(tf.random.normal((nu, nf), dtype=tf.float64), name='W')\n",
    "b = tf.Variable(tf.random.normal((1,  nu), dtype=tf.float64), name='b')\n",
    "\n",
    "# X[0], W[0], b[2,0]\n",
    "\n",
    "b[0][0:2]"
   ]
  },
  {
   "cell_type": "code",
   "execution_count": 59,
   "metadata": {},
   "outputs": [],
   "source": [
    "def calculate_cost(X, W, b, Y, lambda_):\n",
    "\n",
    "    matrix = (tf.linalg.matmul(X, tf.transpose(W)) + b - Y)\n",
    "    regularization = lambda_ * (tf.reduce_sum(W ** 2) + tf.reduce_sum(X ** 2))\n",
    "\n",
    "    # Replace NaNs with zeros (or any value that doesn't affect the sum)\n",
    "    matrix_no_nan = tf.where(tf.math.is_nan(matrix), tf.zeros_like(matrix), matrix)\n",
    "\n",
    "    # Sum all non-NaN values\n",
    "    sum_non_nan = tf.reduce_sum(matrix_no_nan ** 2)\n",
    "\n",
    "    return (sum_non_nan + regularization) / 2"
   ]
  },
  {
   "cell_type": "code",
   "execution_count": 60,
   "metadata": {},
   "outputs": [],
   "source": [
    "optimizer = tf.keras.optimizers.Adam(learning_rate=0.1)"
   ]
  },
  {
   "cell_type": "code",
   "execution_count": 61,
   "metadata": {},
   "outputs": [
    {
     "name": "stderr",
     "output_type": "stream",
     "text": [
      "100%|██████████| 1000/1000 [04:43<00:00,  3.53it/s]\n"
     ]
    }
   ],
   "source": [
    "epochs = 1000\n",
    "lambda_ = 1.5\n",
    "for epoch in tqdm(range(epochs)):\n",
    "    with tf.GradientTape() as tape:\n",
    "        cost = calculate_cost(X, W, b, Y, lambda_)\n",
    "\n",
    "    grads = tape.gradient(cost, [X,W,b])\n",
    "    optimizer.apply_gradients(zip(grads, [X,W,b]))"
   ]
  },
  {
   "cell_type": "code",
   "execution_count": 62,
   "metadata": {},
   "outputs": [],
   "source": [
    "Y_pred = tf.tensordot(X, tf.transpose(W), axes=1) + b"
   ]
  },
  {
   "cell_type": "code",
   "execution_count": 63,
   "metadata": {},
   "outputs": [
    {
     "data": {
      "text/html": [
       "<div>\n",
       "<style scoped>\n",
       "    .dataframe tbody tr th:only-of-type {\n",
       "        vertical-align: middle;\n",
       "    }\n",
       "\n",
       "    .dataframe tbody tr th {\n",
       "        vertical-align: top;\n",
       "    }\n",
       "\n",
       "    .dataframe thead th {\n",
       "        text-align: right;\n",
       "    }\n",
       "</style>\n",
       "<table border=\"1\" class=\"dataframe\">\n",
       "  <thead>\n",
       "    <tr style=\"text-align: right;\">\n",
       "      <th></th>\n",
       "      <th>title</th>\n",
       "      <th>genres</th>\n",
       "    </tr>\n",
       "    <tr>\n",
       "      <th>movieId</th>\n",
       "      <th></th>\n",
       "      <th></th>\n",
       "    </tr>\n",
       "  </thead>\n",
       "  <tbody>\n",
       "    <tr>\n",
       "      <th>1</th>\n",
       "      <td>Toy Story (1995)</td>\n",
       "      <td>Adventure|Animation|Children|Comedy|Fantasy</td>\n",
       "    </tr>\n",
       "    <tr>\n",
       "      <th>2</th>\n",
       "      <td>Jumanji (1995)</td>\n",
       "      <td>Adventure|Children|Fantasy</td>\n",
       "    </tr>\n",
       "    <tr>\n",
       "      <th>3</th>\n",
       "      <td>Grumpier Old Men (1995)</td>\n",
       "      <td>Comedy|Romance</td>\n",
       "    </tr>\n",
       "    <tr>\n",
       "      <th>4</th>\n",
       "      <td>Waiting to Exhale (1995)</td>\n",
       "      <td>Comedy|Drama|Romance</td>\n",
       "    </tr>\n",
       "    <tr>\n",
       "      <th>5</th>\n",
       "      <td>Father of the Bride Part II (1995)</td>\n",
       "      <td>Comedy</td>\n",
       "    </tr>\n",
       "  </tbody>\n",
       "</table>\n",
       "</div>"
      ],
      "text/plain": [
       "                                      title  \\\n",
       "movieId                                       \n",
       "1                          Toy Story (1995)   \n",
       "2                            Jumanji (1995)   \n",
       "3                   Grumpier Old Men (1995)   \n",
       "4                  Waiting to Exhale (1995)   \n",
       "5        Father of the Bride Part II (1995)   \n",
       "\n",
       "                                              genres  \n",
       "movieId                                               \n",
       "1        Adventure|Animation|Children|Comedy|Fantasy  \n",
       "2                         Adventure|Children|Fantasy  \n",
       "3                                     Comedy|Romance  \n",
       "4                               Comedy|Drama|Romance  \n",
       "5                                             Comedy  "
      ]
     },
     "execution_count": 63,
     "metadata": {},
     "output_type": "execute_result"
    }
   ],
   "source": [
    "movie_df = pd.read_csv('data/movies.csv')\n",
    "movie_df = movie_df.set_index('movieId')\n",
    "movie_df.head()"
   ]
  },
  {
   "cell_type": "code",
   "execution_count": 64,
   "metadata": {},
   "outputs": [
    {
     "data": {
      "text/plain": [
       "title     Usual Suspects, The (1995)\n",
       "genres        Crime|Mystery|Thriller\n",
       "Name: 50, dtype: object"
      ]
     },
     "execution_count": 64,
     "metadata": {},
     "output_type": "execute_result"
    }
   ],
   "source": [
    "movie_df.loc[50]"
   ]
  },
  {
   "cell_type": "code",
   "execution_count": 65,
   "metadata": {},
   "outputs": [
    {
     "data": {
      "text/html": [
       "<div>\n",
       "<style scoped>\n",
       "    .dataframe tbody tr th:only-of-type {\n",
       "        vertical-align: middle;\n",
       "    }\n",
       "\n",
       "    .dataframe tbody tr th {\n",
       "        vertical-align: top;\n",
       "    }\n",
       "\n",
       "    .dataframe thead th {\n",
       "        text-align: right;\n",
       "    }\n",
       "</style>\n",
       "<table border=\"1\" class=\"dataframe\">\n",
       "  <thead>\n",
       "    <tr style=\"text-align: right;\">\n",
       "      <th></th>\n",
       "      <th>1</th>\n",
       "      <th>2</th>\n",
       "      <th>3</th>\n",
       "      <th>4</th>\n",
       "      <th>5</th>\n",
       "      <th>6</th>\n",
       "      <th>7</th>\n",
       "      <th>8</th>\n",
       "      <th>9</th>\n",
       "      <th>10</th>\n",
       "      <th>...</th>\n",
       "      <th>602</th>\n",
       "      <th>603</th>\n",
       "      <th>604</th>\n",
       "      <th>605</th>\n",
       "      <th>606</th>\n",
       "      <th>607</th>\n",
       "      <th>608</th>\n",
       "      <th>609</th>\n",
       "      <th>610</th>\n",
       "      <th>movie</th>\n",
       "    </tr>\n",
       "  </thead>\n",
       "  <tbody>\n",
       "    <tr>\n",
       "      <th>1</th>\n",
       "      <td>3.898792</td>\n",
       "      <td>4.293927</td>\n",
       "      <td>1.069678</td>\n",
       "      <td>3.852456</td>\n",
       "      <td>4.235650</td>\n",
       "      <td>4.588624</td>\n",
       "      <td>4.395474</td>\n",
       "      <td>3.294609</td>\n",
       "      <td>3.294677</td>\n",
       "      <td>2.997244</td>\n",
       "      <td>...</td>\n",
       "      <td>3.667811</td>\n",
       "      <td>4.115340</td>\n",
       "      <td>3.546884</td>\n",
       "      <td>3.682458</td>\n",
       "      <td>2.909723</td>\n",
       "      <td>3.705110</td>\n",
       "      <td>2.742307</td>\n",
       "      <td>3.447208</td>\n",
       "      <td>4.729729</td>\n",
       "      <td>Toy Story (1995)</td>\n",
       "    </tr>\n",
       "    <tr>\n",
       "      <th>2</th>\n",
       "      <td>3.698902</td>\n",
       "      <td>3.178899</td>\n",
       "      <td>2.384709</td>\n",
       "      <td>2.536584</td>\n",
       "      <td>3.551601</td>\n",
       "      <td>3.691776</td>\n",
       "      <td>3.400218</td>\n",
       "      <td>3.646883</td>\n",
       "      <td>2.862759</td>\n",
       "      <td>3.266010</td>\n",
       "      <td>...</td>\n",
       "      <td>2.974245</td>\n",
       "      <td>2.620318</td>\n",
       "      <td>3.874792</td>\n",
       "      <td>3.092464</td>\n",
       "      <td>2.817795</td>\n",
       "      <td>3.948704</td>\n",
       "      <td>2.327870</td>\n",
       "      <td>3.004392</td>\n",
       "      <td>3.071694</td>\n",
       "      <td>Jumanji (1995)</td>\n",
       "    </tr>\n",
       "    <tr>\n",
       "      <th>3</th>\n",
       "      <td>4.017408</td>\n",
       "      <td>3.732904</td>\n",
       "      <td>0.881372</td>\n",
       "      <td>2.733678</td>\n",
       "      <td>4.019700</td>\n",
       "      <td>4.252423</td>\n",
       "      <td>4.054943</td>\n",
       "      <td>3.405606</td>\n",
       "      <td>2.727841</td>\n",
       "      <td>4.241159</td>\n",
       "      <td>...</td>\n",
       "      <td>3.091427</td>\n",
       "      <td>4.392492</td>\n",
       "      <td>3.332128</td>\n",
       "      <td>3.007448</td>\n",
       "      <td>2.683276</td>\n",
       "      <td>5.509225</td>\n",
       "      <td>2.141176</td>\n",
       "      <td>3.189107</td>\n",
       "      <td>2.494748</td>\n",
       "      <td>Grumpier Old Men (1995)</td>\n",
       "    </tr>\n",
       "    <tr>\n",
       "      <th>4</th>\n",
       "      <td>4.109976</td>\n",
       "      <td>4.065089</td>\n",
       "      <td>2.392151</td>\n",
       "      <td>1.829217</td>\n",
       "      <td>3.327249</td>\n",
       "      <td>2.975941</td>\n",
       "      <td>2.004267</td>\n",
       "      <td>2.977583</td>\n",
       "      <td>2.043166</td>\n",
       "      <td>4.109446</td>\n",
       "      <td>...</td>\n",
       "      <td>3.041332</td>\n",
       "      <td>2.861136</td>\n",
       "      <td>3.070875</td>\n",
       "      <td>2.361976</td>\n",
       "      <td>2.889090</td>\n",
       "      <td>3.620935</td>\n",
       "      <td>2.479897</td>\n",
       "      <td>3.053304</td>\n",
       "      <td>2.808923</td>\n",
       "      <td>Waiting to Exhale (1995)</td>\n",
       "    </tr>\n",
       "    <tr>\n",
       "      <th>5</th>\n",
       "      <td>4.864579</td>\n",
       "      <td>4.966102</td>\n",
       "      <td>3.046638</td>\n",
       "      <td>2.909662</td>\n",
       "      <td>3.279629</td>\n",
       "      <td>4.586119</td>\n",
       "      <td>0.095037</td>\n",
       "      <td>2.128492</td>\n",
       "      <td>3.949730</td>\n",
       "      <td>4.524457</td>\n",
       "      <td>...</td>\n",
       "      <td>2.763513</td>\n",
       "      <td>-0.148166</td>\n",
       "      <td>2.958124</td>\n",
       "      <td>2.627255</td>\n",
       "      <td>1.441532</td>\n",
       "      <td>1.269608</td>\n",
       "      <td>2.510063</td>\n",
       "      <td>2.752523</td>\n",
       "      <td>2.918142</td>\n",
       "      <td>Father of the Bride Part II (1995)</td>\n",
       "    </tr>\n",
       "  </tbody>\n",
       "</table>\n",
       "<p>5 rows × 611 columns</p>\n",
       "</div>"
      ],
      "text/plain": [
       "          1         2         3         4         5         6         7  \\\n",
       "1  3.898792  4.293927  1.069678  3.852456  4.235650  4.588624  4.395474   \n",
       "2  3.698902  3.178899  2.384709  2.536584  3.551601  3.691776  3.400218   \n",
       "3  4.017408  3.732904  0.881372  2.733678  4.019700  4.252423  4.054943   \n",
       "4  4.109976  4.065089  2.392151  1.829217  3.327249  2.975941  2.004267   \n",
       "5  4.864579  4.966102  3.046638  2.909662  3.279629  4.586119  0.095037   \n",
       "\n",
       "          8         9        10  ...       602       603       604       605  \\\n",
       "1  3.294609  3.294677  2.997244  ...  3.667811  4.115340  3.546884  3.682458   \n",
       "2  3.646883  2.862759  3.266010  ...  2.974245  2.620318  3.874792  3.092464   \n",
       "3  3.405606  2.727841  4.241159  ...  3.091427  4.392492  3.332128  3.007448   \n",
       "4  2.977583  2.043166  4.109446  ...  3.041332  2.861136  3.070875  2.361976   \n",
       "5  2.128492  3.949730  4.524457  ...  2.763513 -0.148166  2.958124  2.627255   \n",
       "\n",
       "        606       607       608       609       610  \\\n",
       "1  2.909723  3.705110  2.742307  3.447208  4.729729   \n",
       "2  2.817795  3.948704  2.327870  3.004392  3.071694   \n",
       "3  2.683276  5.509225  2.141176  3.189107  2.494748   \n",
       "4  2.889090  3.620935  2.479897  3.053304  2.808923   \n",
       "5  1.441532  1.269608  2.510063  2.752523  2.918142   \n",
       "\n",
       "                                movie  \n",
       "1                    Toy Story (1995)  \n",
       "2                      Jumanji (1995)  \n",
       "3             Grumpier Old Men (1995)  \n",
       "4            Waiting to Exhale (1995)  \n",
       "5  Father of the Bride Part II (1995)  \n",
       "\n",
       "[5 rows x 611 columns]"
      ]
     },
     "execution_count": 65,
     "metadata": {},
     "output_type": "execute_result"
    }
   ],
   "source": [
    "new_df = pd.DataFrame(Y_pred, index=Y_df.index, columns=Y_df.columns)\n",
    "new_df['movie'] = movie_df['title']\n",
    "new_df.head()"
   ]
  },
  {
   "cell_type": "markdown",
   "metadata": {},
   "source": [
    "#### predictions for user 1"
   ]
  },
  {
   "cell_type": "code",
   "execution_count": 68,
   "metadata": {},
   "outputs": [
    {
     "data": {
      "text/html": [
       "<div>\n",
       "<style scoped>\n",
       "    .dataframe tbody tr th:only-of-type {\n",
       "        vertical-align: middle;\n",
       "    }\n",
       "\n",
       "    .dataframe tbody tr th {\n",
       "        vertical-align: top;\n",
       "    }\n",
       "\n",
       "    .dataframe thead th {\n",
       "        text-align: right;\n",
       "    }\n",
       "</style>\n",
       "<table border=\"1\" class=\"dataframe\">\n",
       "  <thead>\n",
       "    <tr style=\"text-align: right;\">\n",
       "      <th></th>\n",
       "      <th>1</th>\n",
       "      <th>movie</th>\n",
       "    </tr>\n",
       "  </thead>\n",
       "  <tbody>\n",
       "    <tr>\n",
       "      <th>1</th>\n",
       "      <td>3.898792</td>\n",
       "      <td>Toy Story (1995)</td>\n",
       "    </tr>\n",
       "    <tr>\n",
       "      <th>2</th>\n",
       "      <td>3.698902</td>\n",
       "      <td>Jumanji (1995)</td>\n",
       "    </tr>\n",
       "    <tr>\n",
       "      <th>3</th>\n",
       "      <td>4.017408</td>\n",
       "      <td>Grumpier Old Men (1995)</td>\n",
       "    </tr>\n",
       "    <tr>\n",
       "      <th>4</th>\n",
       "      <td>4.109976</td>\n",
       "      <td>Waiting to Exhale (1995)</td>\n",
       "    </tr>\n",
       "    <tr>\n",
       "      <th>5</th>\n",
       "      <td>4.864579</td>\n",
       "      <td>Father of the Bride Part II (1995)</td>\n",
       "    </tr>\n",
       "    <tr>\n",
       "      <th>...</th>\n",
       "      <td>...</td>\n",
       "      <td>...</td>\n",
       "    </tr>\n",
       "    <tr>\n",
       "      <th>193581</th>\n",
       "      <td>4.317037</td>\n",
       "      <td>Black Butler: Book of the Atlantic (2017)</td>\n",
       "    </tr>\n",
       "    <tr>\n",
       "      <th>193583</th>\n",
       "      <td>4.310839</td>\n",
       "      <td>No Game No Life: Zero (2017)</td>\n",
       "    </tr>\n",
       "    <tr>\n",
       "      <th>193585</th>\n",
       "      <td>4.310461</td>\n",
       "      <td>Flint (2017)</td>\n",
       "    </tr>\n",
       "    <tr>\n",
       "      <th>193587</th>\n",
       "      <td>4.310762</td>\n",
       "      <td>Bungo Stray Dogs: Dead Apple (2018)</td>\n",
       "    </tr>\n",
       "    <tr>\n",
       "      <th>193609</th>\n",
       "      <td>4.365434</td>\n",
       "      <td>Andrew Dice Clay: Dice Rules (1991)</td>\n",
       "    </tr>\n",
       "  </tbody>\n",
       "</table>\n",
       "<p>9724 rows × 2 columns</p>\n",
       "</div>"
      ],
      "text/plain": [
       "               1                                      movie\n",
       "1       3.898792                           Toy Story (1995)\n",
       "2       3.698902                             Jumanji (1995)\n",
       "3       4.017408                    Grumpier Old Men (1995)\n",
       "4       4.109976                   Waiting to Exhale (1995)\n",
       "5       4.864579         Father of the Bride Part II (1995)\n",
       "...          ...                                        ...\n",
       "193581  4.317037  Black Butler: Book of the Atlantic (2017)\n",
       "193583  4.310839               No Game No Life: Zero (2017)\n",
       "193585  4.310461                               Flint (2017)\n",
       "193587  4.310762        Bungo Stray Dogs: Dead Apple (2018)\n",
       "193609  4.365434        Andrew Dice Clay: Dice Rules (1991)\n",
       "\n",
       "[9724 rows x 2 columns]"
      ]
     },
     "execution_count": 68,
     "metadata": {},
     "output_type": "execute_result"
    }
   ],
   "source": [
    "new_df[[1, 'movie']]"
   ]
  },
  {
   "cell_type": "code",
   "execution_count": null,
   "metadata": {},
   "outputs": [],
   "source": []
  }
 ],
 "metadata": {
  "kernelspec": {
   "display_name": "Python 3",
   "language": "python",
   "name": "python3"
  },
  "language_info": {
   "codemirror_mode": {
    "name": "ipython",
    "version": 3
   },
   "file_extension": ".py",
   "mimetype": "text/x-python",
   "name": "python",
   "nbconvert_exporter": "python",
   "pygments_lexer": "ipython3",
   "version": "3.12.4"
  }
 },
 "nbformat": 4,
 "nbformat_minor": 2
}
