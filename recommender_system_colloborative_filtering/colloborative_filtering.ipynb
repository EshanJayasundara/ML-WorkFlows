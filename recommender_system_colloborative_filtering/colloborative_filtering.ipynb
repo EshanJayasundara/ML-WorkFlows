{
 "cells": [
  {
   "cell_type": "code",
   "execution_count": 1,
   "metadata": {},
   "outputs": [],
   "source": [
    "import pandas as pd\n",
    "import numpy as np\n",
    "import tensorflow as tf\n",
    "from tqdm import tqdm"
   ]
  },
  {
   "cell_type": "code",
   "execution_count": 2,
   "metadata": {},
   "outputs": [],
   "source": [
    "df = pd.read_csv('data/ratings.csv')\n",
    "# df.head()"
   ]
  },
  {
   "cell_type": "code",
   "execution_count": 3,
   "metadata": {},
   "outputs": [],
   "source": [
    "Y_df = pd.DataFrame(index=sorted(df['movieId'].unique().tolist()), columns=df['userId'].unique().tolist())\n",
    "# Y_df.head()"
   ]
  },
  {
   "cell_type": "code",
   "execution_count": 4,
   "metadata": {},
   "outputs": [
    {
     "name": "stdout",
     "output_type": "stream",
     "text": [
      "[[4.  nan nan ... 2.5 3.  5. ]\n",
      " [nan nan nan ... 2.  nan nan]\n",
      " [4.  nan nan ... 2.  nan nan]\n",
      " ...\n",
      " [nan nan nan ... nan nan nan]\n",
      " [nan nan nan ... nan nan nan]\n",
      " [nan nan nan ... nan nan nan]]\n"
     ]
    }
   ],
   "source": [
    "# Create a pivot table from the dataframe df\n",
    "pivot_df = df.pivot(index='movieId', columns='userId', values='rating')\n",
    "\n",
    "# Reindex to match Y_df's index and columns, filling missing values with 0 or NaN as needed\n",
    "Y_df = pivot_df.reindex(index=Y_df.index, columns=Y_df.columns)\n",
    "\n",
    "# Make a numpy array of Y\n",
    "Y = Y_df.to_numpy()\n",
    "\n",
    "print(Y)"
   ]
  },
  {
   "cell_type": "code",
   "execution_count": 5,
   "metadata": {},
   "outputs": [],
   "source": [
    "nm, nu = Y.shape\n",
    "nf = 20"
   ]
  },
  {
   "cell_type": "code",
   "execution_count": 6,
   "metadata": {},
   "outputs": [
    {
     "data": {
      "text/plain": [
       "<tf.Tensor: shape=(2,), dtype=float64, numpy=array([-0.08194051,  0.7000041 ])>"
      ]
     },
     "execution_count": 6,
     "metadata": {},
     "output_type": "execute_result"
    }
   ],
   "source": [
    "tf.random.set_seed(1234)\n",
    "\n",
    "X = tf.Variable(tf.random.normal((nm, nf), dtype=tf.float64), name='X')\n",
    "W = tf.Variable(tf.random.normal((nu, nf), dtype=tf.float64), name='W')\n",
    "b = tf.Variable(tf.random.normal((1,  nu), dtype=tf.float64), name='b')\n",
    "\n",
    "# X[0], W[0], b[2,0]\n",
    "\n",
    "b[0][0:2]"
   ]
  },
  {
   "cell_type": "code",
   "execution_count": 7,
   "metadata": {},
   "outputs": [],
   "source": [
    "def calculate_cost(X, W, b, Y, lambda_):\n",
    "\n",
    "    matrix = (tf.tensordot(X, tf.transpose(W), axes=1) + b - Y)\n",
    "    regularization = lambda_ * (tf.reduce_sum(W ** 2) + tf.reduce_sum(X ** 2))\n",
    "\n",
    "    # Replace NaNs with zeros (or any value that doesn't affect the sum)\n",
    "    matrix_no_nan = tf.where(tf.math.is_nan(matrix), tf.zeros_like(matrix), matrix)\n",
    "\n",
    "    # Sum all non-NaN values\n",
    "    sum_non_nan = tf.reduce_sum(matrix_no_nan ** 2)\n",
    "\n",
    "    return (sum_non_nan + regularization) / 2"
   ]
  },
  {
   "cell_type": "code",
   "execution_count": 8,
   "metadata": {},
   "outputs": [],
   "source": [
    "optimizer = tf.keras.optimizers.Adam(learning_rate=0.1)"
   ]
  },
  {
   "cell_type": "code",
   "execution_count": 9,
   "metadata": {},
   "outputs": [
    {
     "name": "stderr",
     "output_type": "stream",
     "text": [
      "100%|██████████| 1000/1000 [03:24<00:00,  4.90it/s]\n"
     ]
    }
   ],
   "source": [
    "epochs = 1000\n",
    "lambda_ = 1.5\n",
    "for epoch in tqdm(range(epochs)):\n",
    "    with tf.GradientTape() as tape:\n",
    "        cost = calculate_cost(X, W, b, Y, lambda_)\n",
    "\n",
    "    grads = tape.gradient(cost, [X,W,b])\n",
    "    optimizer.apply_gradients(zip(grads, [X,W,b]))"
   ]
  },
  {
   "cell_type": "code",
   "execution_count": 10,
   "metadata": {},
   "outputs": [],
   "source": [
    "Y_pred = tf.tensordot(X, tf.transpose(W), axes=1) + b"
   ]
  },
  {
   "cell_type": "code",
   "execution_count": 44,
   "metadata": {},
   "outputs": [
    {
     "data": {
      "text/html": [
       "<div>\n",
       "<style scoped>\n",
       "    .dataframe tbody tr th:only-of-type {\n",
       "        vertical-align: middle;\n",
       "    }\n",
       "\n",
       "    .dataframe tbody tr th {\n",
       "        vertical-align: top;\n",
       "    }\n",
       "\n",
       "    .dataframe thead th {\n",
       "        text-align: right;\n",
       "    }\n",
       "</style>\n",
       "<table border=\"1\" class=\"dataframe\">\n",
       "  <thead>\n",
       "    <tr style=\"text-align: right;\">\n",
       "      <th></th>\n",
       "      <th>title</th>\n",
       "      <th>genres</th>\n",
       "    </tr>\n",
       "    <tr>\n",
       "      <th>movieId</th>\n",
       "      <th></th>\n",
       "      <th></th>\n",
       "    </tr>\n",
       "  </thead>\n",
       "  <tbody>\n",
       "    <tr>\n",
       "      <th>1</th>\n",
       "      <td>Toy Story (1995)</td>\n",
       "      <td>Adventure|Animation|Children|Comedy|Fantasy</td>\n",
       "    </tr>\n",
       "    <tr>\n",
       "      <th>2</th>\n",
       "      <td>Jumanji (1995)</td>\n",
       "      <td>Adventure|Children|Fantasy</td>\n",
       "    </tr>\n",
       "    <tr>\n",
       "      <th>3</th>\n",
       "      <td>Grumpier Old Men (1995)</td>\n",
       "      <td>Comedy|Romance</td>\n",
       "    </tr>\n",
       "    <tr>\n",
       "      <th>4</th>\n",
       "      <td>Waiting to Exhale (1995)</td>\n",
       "      <td>Comedy|Drama|Romance</td>\n",
       "    </tr>\n",
       "    <tr>\n",
       "      <th>5</th>\n",
       "      <td>Father of the Bride Part II (1995)</td>\n",
       "      <td>Comedy</td>\n",
       "    </tr>\n",
       "  </tbody>\n",
       "</table>\n",
       "</div>"
      ],
      "text/plain": [
       "                                      title  \\\n",
       "movieId                                       \n",
       "1                          Toy Story (1995)   \n",
       "2                            Jumanji (1995)   \n",
       "3                   Grumpier Old Men (1995)   \n",
       "4                  Waiting to Exhale (1995)   \n",
       "5        Father of the Bride Part II (1995)   \n",
       "\n",
       "                                              genres  \n",
       "movieId                                               \n",
       "1        Adventure|Animation|Children|Comedy|Fantasy  \n",
       "2                         Adventure|Children|Fantasy  \n",
       "3                                     Comedy|Romance  \n",
       "4                               Comedy|Drama|Romance  \n",
       "5                                             Comedy  "
      ]
     },
     "execution_count": 44,
     "metadata": {},
     "output_type": "execute_result"
    }
   ],
   "source": [
    "movie_df = pd.read_csv('data/movies.csv')\n",
    "movie_df = movie_df.set_index('movieId')\n",
    "movie_df.head()"
   ]
  },
  {
   "cell_type": "code",
   "execution_count": 46,
   "metadata": {},
   "outputs": [
    {
     "data": {
      "text/plain": [
       "title     Usual Suspects, The (1995)\n",
       "genres        Crime|Mystery|Thriller\n",
       "Name: 50, dtype: object"
      ]
     },
     "execution_count": 46,
     "metadata": {},
     "output_type": "execute_result"
    }
   ],
   "source": [
    "movie_df.loc[50]"
   ]
  },
  {
   "cell_type": "code",
   "execution_count": 49,
   "metadata": {},
   "outputs": [
    {
     "data": {
      "text/html": [
       "<div>\n",
       "<style scoped>\n",
       "    .dataframe tbody tr th:only-of-type {\n",
       "        vertical-align: middle;\n",
       "    }\n",
       "\n",
       "    .dataframe tbody tr th {\n",
       "        vertical-align: top;\n",
       "    }\n",
       "\n",
       "    .dataframe thead th {\n",
       "        text-align: right;\n",
       "    }\n",
       "</style>\n",
       "<table border=\"1\" class=\"dataframe\">\n",
       "  <thead>\n",
       "    <tr style=\"text-align: right;\">\n",
       "      <th></th>\n",
       "      <th>1</th>\n",
       "      <th>2</th>\n",
       "      <th>3</th>\n",
       "      <th>4</th>\n",
       "      <th>5</th>\n",
       "      <th>6</th>\n",
       "      <th>7</th>\n",
       "      <th>8</th>\n",
       "      <th>9</th>\n",
       "      <th>10</th>\n",
       "      <th>...</th>\n",
       "      <th>602</th>\n",
       "      <th>603</th>\n",
       "      <th>604</th>\n",
       "      <th>605</th>\n",
       "      <th>606</th>\n",
       "      <th>607</th>\n",
       "      <th>608</th>\n",
       "      <th>609</th>\n",
       "      <th>610</th>\n",
       "      <th>movie</th>\n",
       "    </tr>\n",
       "  </thead>\n",
       "  <tbody>\n",
       "    <tr>\n",
       "      <th>1</th>\n",
       "      <td>3.995354</td>\n",
       "      <td>3.547470</td>\n",
       "      <td>2.594645</td>\n",
       "      <td>5.465924</td>\n",
       "      <td>3.550314</td>\n",
       "      <td>4.243351</td>\n",
       "      <td>5.307731</td>\n",
       "      <td>4.254967</td>\n",
       "      <td>3.517068</td>\n",
       "      <td>3.647536</td>\n",
       "      <td>...</td>\n",
       "      <td>3.253163</td>\n",
       "      <td>3.455262</td>\n",
       "      <td>3.640803</td>\n",
       "      <td>3.677512</td>\n",
       "      <td>3.112444</td>\n",
       "      <td>3.749669</td>\n",
       "      <td>2.081514</td>\n",
       "      <td>3.450507</td>\n",
       "      <td>4.436178</td>\n",
       "      <td>Toy Story (1995)</td>\n",
       "    </tr>\n",
       "    <tr>\n",
       "      <th>2</th>\n",
       "      <td>3.260261</td>\n",
       "      <td>3.837275</td>\n",
       "      <td>1.856736</td>\n",
       "      <td>3.362137</td>\n",
       "      <td>3.269763</td>\n",
       "      <td>3.982213</td>\n",
       "      <td>4.112228</td>\n",
       "      <td>3.367141</td>\n",
       "      <td>3.055758</td>\n",
       "      <td>4.155225</td>\n",
       "      <td>...</td>\n",
       "      <td>3.203713</td>\n",
       "      <td>3.042210</td>\n",
       "      <td>3.559473</td>\n",
       "      <td>3.352554</td>\n",
       "      <td>2.609032</td>\n",
       "      <td>4.127159</td>\n",
       "      <td>2.352110</td>\n",
       "      <td>3.058363</td>\n",
       "      <td>3.812741</td>\n",
       "      <td>Jumanji (1995)</td>\n",
       "    </tr>\n",
       "    <tr>\n",
       "      <th>3</th>\n",
       "      <td>4.212994</td>\n",
       "      <td>3.458158</td>\n",
       "      <td>1.657049</td>\n",
       "      <td>2.507670</td>\n",
       "      <td>3.917288</td>\n",
       "      <td>4.686126</td>\n",
       "      <td>4.213830</td>\n",
       "      <td>2.829126</td>\n",
       "      <td>1.805872</td>\n",
       "      <td>3.582340</td>\n",
       "      <td>...</td>\n",
       "      <td>2.868530</td>\n",
       "      <td>2.865821</td>\n",
       "      <td>3.161257</td>\n",
       "      <td>2.670433</td>\n",
       "      <td>3.535391</td>\n",
       "      <td>5.030427</td>\n",
       "      <td>1.805791</td>\n",
       "      <td>3.592106</td>\n",
       "      <td>3.263654</td>\n",
       "      <td>Grumpier Old Men (1995)</td>\n",
       "    </tr>\n",
       "    <tr>\n",
       "      <th>4</th>\n",
       "      <td>3.725815</td>\n",
       "      <td>4.010878</td>\n",
       "      <td>1.192126</td>\n",
       "      <td>0.669249</td>\n",
       "      <td>3.204674</td>\n",
       "      <td>2.963493</td>\n",
       "      <td>2.453845</td>\n",
       "      <td>2.555882</td>\n",
       "      <td>2.340013</td>\n",
       "      <td>3.856097</td>\n",
       "      <td>...</td>\n",
       "      <td>3.982302</td>\n",
       "      <td>4.060831</td>\n",
       "      <td>3.546256</td>\n",
       "      <td>2.824201</td>\n",
       "      <td>3.419612</td>\n",
       "      <td>4.252477</td>\n",
       "      <td>3.162327</td>\n",
       "      <td>2.997582</td>\n",
       "      <td>2.973756</td>\n",
       "      <td>Waiting to Exhale (1995)</td>\n",
       "    </tr>\n",
       "    <tr>\n",
       "      <th>5</th>\n",
       "      <td>4.033223</td>\n",
       "      <td>4.145147</td>\n",
       "      <td>2.557883</td>\n",
       "      <td>3.848890</td>\n",
       "      <td>3.986843</td>\n",
       "      <td>4.664439</td>\n",
       "      <td>0.837241</td>\n",
       "      <td>3.014892</td>\n",
       "      <td>3.288822</td>\n",
       "      <td>2.292139</td>\n",
       "      <td>...</td>\n",
       "      <td>2.556054</td>\n",
       "      <td>1.195827</td>\n",
       "      <td>2.874201</td>\n",
       "      <td>3.267473</td>\n",
       "      <td>1.612232</td>\n",
       "      <td>2.252644</td>\n",
       "      <td>1.162059</td>\n",
       "      <td>2.969226</td>\n",
       "      <td>1.325385</td>\n",
       "      <td>Father of the Bride Part II (1995)</td>\n",
       "    </tr>\n",
       "  </tbody>\n",
       "</table>\n",
       "<p>5 rows × 611 columns</p>\n",
       "</div>"
      ],
      "text/plain": [
       "          1         2         3         4         5         6         7  \\\n",
       "1  3.995354  3.547470  2.594645  5.465924  3.550314  4.243351  5.307731   \n",
       "2  3.260261  3.837275  1.856736  3.362137  3.269763  3.982213  4.112228   \n",
       "3  4.212994  3.458158  1.657049  2.507670  3.917288  4.686126  4.213830   \n",
       "4  3.725815  4.010878  1.192126  0.669249  3.204674  2.963493  2.453845   \n",
       "5  4.033223  4.145147  2.557883  3.848890  3.986843  4.664439  0.837241   \n",
       "\n",
       "          8         9        10  ...       602       603       604       605  \\\n",
       "1  4.254967  3.517068  3.647536  ...  3.253163  3.455262  3.640803  3.677512   \n",
       "2  3.367141  3.055758  4.155225  ...  3.203713  3.042210  3.559473  3.352554   \n",
       "3  2.829126  1.805872  3.582340  ...  2.868530  2.865821  3.161257  2.670433   \n",
       "4  2.555882  2.340013  3.856097  ...  3.982302  4.060831  3.546256  2.824201   \n",
       "5  3.014892  3.288822  2.292139  ...  2.556054  1.195827  2.874201  3.267473   \n",
       "\n",
       "        606       607       608       609       610  \\\n",
       "1  3.112444  3.749669  2.081514  3.450507  4.436178   \n",
       "2  2.609032  4.127159  2.352110  3.058363  3.812741   \n",
       "3  3.535391  5.030427  1.805791  3.592106  3.263654   \n",
       "4  3.419612  4.252477  3.162327  2.997582  2.973756   \n",
       "5  1.612232  2.252644  1.162059  2.969226  1.325385   \n",
       "\n",
       "                                movie  \n",
       "1                    Toy Story (1995)  \n",
       "2                      Jumanji (1995)  \n",
       "3             Grumpier Old Men (1995)  \n",
       "4            Waiting to Exhale (1995)  \n",
       "5  Father of the Bride Part II (1995)  \n",
       "\n",
       "[5 rows x 611 columns]"
      ]
     },
     "execution_count": 49,
     "metadata": {},
     "output_type": "execute_result"
    }
   ],
   "source": [
    "new_df = pd.DataFrame(Y_pred, index=Y_df.index, columns=Y_df.columns)\n",
    "new_df['movie'] = movie_df['title']\n",
    "new_df.head()"
   ]
  },
  {
   "cell_type": "markdown",
   "metadata": {},
   "source": [
    "#### predictions for user 1"
   ]
  },
  {
   "cell_type": "code",
   "execution_count": 58,
   "metadata": {},
   "outputs": [
    {
     "data": {
      "text/html": [
       "<div>\n",
       "<style scoped>\n",
       "    .dataframe tbody tr th:only-of-type {\n",
       "        vertical-align: middle;\n",
       "    }\n",
       "\n",
       "    .dataframe tbody tr th {\n",
       "        vertical-align: top;\n",
       "    }\n",
       "\n",
       "    .dataframe thead th {\n",
       "        text-align: right;\n",
       "    }\n",
       "</style>\n",
       "<table border=\"1\" class=\"dataframe\">\n",
       "  <thead>\n",
       "    <tr style=\"text-align: right;\">\n",
       "      <th></th>\n",
       "      <th>1</th>\n",
       "      <th>movie</th>\n",
       "    </tr>\n",
       "  </thead>\n",
       "  <tbody>\n",
       "    <tr>\n",
       "      <th>1</th>\n",
       "      <td>3.995354</td>\n",
       "      <td>Toy Story (1995)</td>\n",
       "    </tr>\n",
       "    <tr>\n",
       "      <th>2</th>\n",
       "      <td>3.260261</td>\n",
       "      <td>Jumanji (1995)</td>\n",
       "    </tr>\n",
       "    <tr>\n",
       "      <th>3</th>\n",
       "      <td>4.212994</td>\n",
       "      <td>Grumpier Old Men (1995)</td>\n",
       "    </tr>\n",
       "    <tr>\n",
       "      <th>4</th>\n",
       "      <td>3.725815</td>\n",
       "      <td>Waiting to Exhale (1995)</td>\n",
       "    </tr>\n",
       "    <tr>\n",
       "      <th>5</th>\n",
       "      <td>4.033223</td>\n",
       "      <td>Father of the Bride Part II (1995)</td>\n",
       "    </tr>\n",
       "    <tr>\n",
       "      <th>...</th>\n",
       "      <td>...</td>\n",
       "      <td>...</td>\n",
       "    </tr>\n",
       "    <tr>\n",
       "      <th>193581</th>\n",
       "      <td>4.120088</td>\n",
       "      <td>Black Butler: Book of the Atlantic (2017)</td>\n",
       "    </tr>\n",
       "    <tr>\n",
       "      <th>193583</th>\n",
       "      <td>4.067515</td>\n",
       "      <td>No Game No Life: Zero (2017)</td>\n",
       "    </tr>\n",
       "    <tr>\n",
       "      <th>193585</th>\n",
       "      <td>4.067508</td>\n",
       "      <td>Flint (2017)</td>\n",
       "    </tr>\n",
       "    <tr>\n",
       "      <th>193587</th>\n",
       "      <td>4.067514</td>\n",
       "      <td>Bungo Stray Dogs: Dead Apple (2018)</td>\n",
       "    </tr>\n",
       "    <tr>\n",
       "      <th>193609</th>\n",
       "      <td>4.210629</td>\n",
       "      <td>Andrew Dice Clay: Dice Rules (1991)</td>\n",
       "    </tr>\n",
       "  </tbody>\n",
       "</table>\n",
       "<p>9724 rows × 2 columns</p>\n",
       "</div>"
      ],
      "text/plain": [
       "               1                                      movie\n",
       "1       3.995354                           Toy Story (1995)\n",
       "2       3.260261                             Jumanji (1995)\n",
       "3       4.212994                    Grumpier Old Men (1995)\n",
       "4       3.725815                   Waiting to Exhale (1995)\n",
       "5       4.033223         Father of the Bride Part II (1995)\n",
       "...          ...                                        ...\n",
       "193581  4.120088  Black Butler: Book of the Atlantic (2017)\n",
       "193583  4.067515               No Game No Life: Zero (2017)\n",
       "193585  4.067508                               Flint (2017)\n",
       "193587  4.067514        Bungo Stray Dogs: Dead Apple (2018)\n",
       "193609  4.210629        Andrew Dice Clay: Dice Rules (1991)\n",
       "\n",
       "[9724 rows x 2 columns]"
      ]
     },
     "execution_count": 58,
     "metadata": {},
     "output_type": "execute_result"
    }
   ],
   "source": [
    "new_df[[1, 'movie']]"
   ]
  }
 ],
 "metadata": {
  "kernelspec": {
   "display_name": "Python 3",
   "language": "python",
   "name": "python3"
  },
  "language_info": {
   "codemirror_mode": {
    "name": "ipython",
    "version": 3
   },
   "file_extension": ".py",
   "mimetype": "text/x-python",
   "name": "python",
   "nbconvert_exporter": "python",
   "pygments_lexer": "ipython3",
   "version": "3.12.4"
  }
 },
 "nbformat": 4,
 "nbformat_minor": 2
}
